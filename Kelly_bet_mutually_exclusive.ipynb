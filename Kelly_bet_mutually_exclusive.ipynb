{
 "cells": [
  {
   "cell_type": "markdown",
   "id": "56cea3e9",
   "metadata": {},
   "source": [
    "# Kelly Bet for Mutually Exclusive events"
   ]
  },
  {
   "cell_type": "markdown",
   "id": "13372114",
   "metadata": {},
   "source": [
    "<a href=\"https://colab.research.google.com/github.com/Arivoli-A/Kelly-betting/blob/master/Kelly_bet_mutually_exclusive.ipynb\" target=\"_parent\"><img src=\"https://colab.research.google.com/assets/colab-badge.svg\" alt=\"Open In Colab\"/></a>"
   ]
  },
  {
   "cell_type": "code",
   "execution_count": 37,
   "id": "66317ac0",
   "metadata": {},
   "outputs": [],
   "source": [
    "import sympy as sp"
   ]
  },
  {
   "cell_type": "markdown",
   "id": "c5e214fd",
   "metadata": {},
   "source": [
    "Defining the expectation function $G(\\boldsymbol{f})$ and finding the first order derivative to find extremum point"
   ]
  },
  {
   "cell_type": "code",
   "execution_count": null,
   "id": "5f75737d",
   "metadata": {},
   "outputs": [
    {
     "name": "stdout",
     "output_type": "stream",
     "text": [
      "Function g:\n",
      "p₁⋅log(f₁⋅(b₁ - 1) - f₂ - f₃ + 1) + p₂⋅log(-f₁ + f₂⋅(b₂ - 1) - f₃ + 1) + p₃⋅lo ↪\n",
      "\n",
      "↪ g(-f₁ - f₂ + f₃⋅(b₃ - 1) + 1) + (-p₁ - p₂ - p₃ + 1)⋅log(-f₁ - f₂ - f₃ + 1)\n",
      "\n",
      "Gradient of g with respect to f:\n",
      "⎡        p₁⋅(b₁ - 1)                      p₂                           p₃      ↪\n",
      "⎢ ───────────────────────── - ────────────────────────── - ─────────────────── ↪\n",
      "⎢ f₁⋅(b₁ - 1) - f₂ - f₃ + 1   -f₁ + f₂⋅(b₂ - 1) - f₃ + 1   -f₁ - f₂ + f₃⋅(b₃ - ↪\n",
      "⎢                                                                              ↪\n",
      "⎢             p₁                      p₂⋅(b₂ - 1)                       p₃     ↪\n",
      "⎢- ───────────────────────── + ────────────────────────── - ────────────────── ↪\n",
      "⎢  f₁⋅(b₁ - 1) - f₂ - f₃ + 1   -f₁ + f₂⋅(b₂ - 1) - f₃ + 1   -f₁ - f₂ + f₃⋅(b₃  ↪\n",
      "⎢                                                                              ↪\n",
      "⎢             p₁                           p₂                      p₃⋅(b₃ - 1) ↪\n",
      "⎢- ───────────────────────── - ────────────────────────── + ────────────────── ↪\n",
      "⎣  f₁⋅(b₁ - 1) - f₂ - f₃ + 1   -f₁ + f₂⋅(b₂ - 1) - f₃ + 1   -f₁ - f₂ + f₃⋅(b₃  ↪\n",
      "\n",
      "↪           -p₁ - p₂ - p₃ + 1 ⎤\n",
      "↪ ─────── - ───────────────── ⎥\n",
      "↪  1) + 1   -f₁ - f₂ - f₃ + 1 ⎥\n",
      "↪                             ⎥\n",
      "↪            -p₁ - p₂ - p₃ + 1⎥\n",
      "↪ ──────── - ─────────────────⎥\n",
      "↪ - 1) + 1   -f₁ - f₂ - f₃ + 1⎥\n",
      "↪                             ⎥\n",
      "↪            -p₁ - p₂ - p₃ + 1⎥\n",
      "↪ ──────── - ─────────────────⎥\n",
      "↪ - 1) + 1   -f₁ - f₂ - f₃ + 1⎦\n"
     ]
    }
   ],
   "source": [
    "# Step 1: Define input and parameter vectors\n",
    "f1, f2, f3 = sp.symbols('f1 f2 f3')  # Input variables\n",
    "b1, b2, b3 = sp.symbols('b1 b2 b3')  # Parameters b\n",
    "p1, p2, p3 = sp.symbols('p1 p2 p3')  # Parameters p\n",
    "\n",
    "# Optional: Group into vectors if needed\n",
    "f = sp.Matrix([f1, f2, f3])\n",
    "b = sp.Matrix([b1, b2, b3])\n",
    "p = sp.Matrix([p1, p2, p3])\n",
    "\n",
    "# Step 2: Define the function g(f, p, b)\n",
    "g = (\n",
    "    p1 * sp.log(1 + f1 * (b1 - 1) - f2 - f3) +\n",
    "    p2 * sp.log(1 + f2 * (b2 - 1) - f1 - f3) +\n",
    "    p3 * sp.log(1 + f3 * (b3 - 1) - f1 - f2) +\n",
    "    (1 - p1 - p2 - p3) * sp.log(1 - f1 - f2 - f3))\n",
    "\n",
    "# Step 3: Compute partial derivatives of g with respect to f1, f2, f3\n",
    "partials = sp.Matrix([sp.diff(g, fi) for fi in f])\n",
    "\n",
    "# Step 4: Output\n",
    "print(\"Function g:\")\n",
    "sp.pprint(g)\n",
    "\n",
    "print(\"\\nGradient of g with respect to f:\")\n",
    "sp.pprint(partials)\n"
   ]
  },
  {
   "cell_type": "code",
   "execution_count": 39,
   "id": "e60eeeda",
   "metadata": {},
   "outputs": [
    {
     "data": {
      "text/latex": [
       "$\\displaystyle \\left[\\begin{matrix}\\frac{p_{1} \\left(b_{1} - 1\\right)}{f_{1} \\left(b_{1} - 1\\right) - f_{2} - f_{3} + 1} - \\frac{p_{2}}{- f_{1} + f_{2} \\left(b_{2} - 1\\right) - f_{3} + 1} - \\frac{p_{3}}{- f_{1} - f_{2} + f_{3} \\left(b_{3} - 1\\right) + 1} - \\frac{- p_{1} - p_{2} - p_{3} + 1}{- f_{1} - f_{2} - f_{3} + 1}\\\\- \\frac{p_{1}}{f_{1} \\left(b_{1} - 1\\right) - f_{2} - f_{3} + 1} + \\frac{p_{2} \\left(b_{2} - 1\\right)}{- f_{1} + f_{2} \\left(b_{2} - 1\\right) - f_{3} + 1} - \\frac{p_{3}}{- f_{1} - f_{2} + f_{3} \\left(b_{3} - 1\\right) + 1} - \\frac{- p_{1} - p_{2} - p_{3} + 1}{- f_{1} - f_{2} - f_{3} + 1}\\\\- \\frac{p_{1}}{f_{1} \\left(b_{1} - 1\\right) - f_{2} - f_{3} + 1} - \\frac{p_{2}}{- f_{1} + f_{2} \\left(b_{2} - 1\\right) - f_{3} + 1} + \\frac{p_{3} \\left(b_{3} - 1\\right)}{- f_{1} - f_{2} + f_{3} \\left(b_{3} - 1\\right) + 1} - \\frac{- p_{1} - p_{2} - p_{3} + 1}{- f_{1} - f_{2} - f_{3} + 1}\\end{matrix}\\right]$"
      ],
      "text/plain": [
       "Matrix([\n",
       "[ p1*(b1 - 1)/(f1*(b1 - 1) - f2 - f3 + 1) - p2/(-f1 + f2*(b2 - 1) - f3 + 1) - p3/(-f1 - f2 + f3*(b3 - 1) + 1) - (-p1 - p2 - p3 + 1)/(-f1 - f2 - f3 + 1)],\n",
       "[-p1/(f1*(b1 - 1) - f2 - f3 + 1) + p2*(b2 - 1)/(-f1 + f2*(b2 - 1) - f3 + 1) - p3/(-f1 - f2 + f3*(b3 - 1) + 1) - (-p1 - p2 - p3 + 1)/(-f1 - f2 - f3 + 1)],\n",
       "[-p1/(f1*(b1 - 1) - f2 - f3 + 1) - p2/(-f1 + f2*(b2 - 1) - f3 + 1) + p3*(b3 - 1)/(-f1 - f2 + f3*(b3 - 1) + 1) - (-p1 - p2 - p3 + 1)/(-f1 - f2 - f3 + 1)]])"
      ]
     },
     "execution_count": 39,
     "metadata": {},
     "output_type": "execute_result"
    }
   ],
   "source": [
    "partials"
   ]
  },
  {
   "cell_type": "code",
   "execution_count": 40,
   "id": "4d2fcade",
   "metadata": {},
   "outputs": [
    {
     "data": {
      "text/latex": [
       "$\\displaystyle \\frac{p_{1} \\left(b_{1} - 1\\right)}{f_{1} \\left(b_{1} - 1\\right) - f_{2} - f_{3} + 1} + \\frac{p_{1}}{f_{1} \\left(b_{1} - 1\\right) - f_{2} - f_{3} + 1} - \\frac{p_{2} \\left(b_{2} - 1\\right)}{- f_{1} + f_{2} \\left(b_{2} - 1\\right) - f_{3} + 1} - \\frac{p_{2}}{- f_{1} + f_{2} \\left(b_{2} - 1\\right) - f_{3} + 1}$"
      ],
      "text/plain": [
       "p1*(b1 - 1)/(f1*(b1 - 1) - f2 - f3 + 1) + p1/(f1*(b1 - 1) - f2 - f3 + 1) - p2*(b2 - 1)/(-f1 + f2*(b2 - 1) - f3 + 1) - p2/(-f1 + f2*(b2 - 1) - f3 + 1)"
      ]
     },
     "execution_count": 40,
     "metadata": {},
     "output_type": "execute_result"
    }
   ],
   "source": [
    "eq1 = (partials[0]-partials[1])\n",
    "eq1"
   ]
  },
  {
   "cell_type": "code",
   "execution_count": 41,
   "id": "a5df58e6",
   "metadata": {},
   "outputs": [
    {
     "data": {
      "text/latex": [
       "$\\displaystyle \\frac{p_{1} \\left(b_{1} - 1\\right)}{f_{1} \\left(b_{1} - 1\\right) - f_{2} - f_{3} + 1} + \\frac{p_{1}}{f_{1} \\left(b_{1} - 1\\right) - f_{2} - f_{3} + 1} - \\frac{p_{3} \\left(b_{3} - 1\\right)}{- f_{1} - f_{2} + f_{3} \\left(b_{3} - 1\\right) + 1} - \\frac{p_{3}}{- f_{1} - f_{2} + f_{3} \\left(b_{3} - 1\\right) + 1}$"
      ],
      "text/plain": [
       "p1*(b1 - 1)/(f1*(b1 - 1) - f2 - f3 + 1) + p1/(f1*(b1 - 1) - f2 - f3 + 1) - p3*(b3 - 1)/(-f1 - f2 + f3*(b3 - 1) + 1) - p3/(-f1 - f2 + f3*(b3 - 1) + 1)"
      ]
     },
     "execution_count": 41,
     "metadata": {},
     "output_type": "execute_result"
    }
   ],
   "source": [
    "eq2 = (partials[0]-partials[2])\n",
    "eq2"
   ]
  },
  {
   "cell_type": "markdown",
   "id": "1bc939b0",
   "metadata": {},
   "source": [
    "Solving $\\frac{\\partial{G}}{\\partial{f_0}} - \\frac{\\partial{G}}{\\partial{f_1}} = \\frac{\\partial{G}}{\\partial{f_0}} - \\frac{\\partial{G}}{\\partial{f_2}} = \\frac{\\partial{G}}{\\partial{f_2}} = 0$.\n",
    "\n",
    "i.e $\\frac{\\partial{G}}{\\partial{f_0}} = \\frac{\\partial{G}}{\\partial{f_1}} = \\frac{\\partial{G}}{\\partial{f_2}} = 0$ to get the extremum point"
   ]
  },
  {
   "cell_type": "code",
   "execution_count": 42,
   "id": "e2a643e7",
   "metadata": {},
   "outputs": [
    {
     "data": {
      "text/plain": [
       "[{f1: (-b1*b2*b3*p1 + b1*b2*p1 + b1*b3*p1 - b2*b3*p2 - b2*b3*p3 + b2*b3)/(-b1*b2*b3 + b1*b2 + b1*b3 + b2*b3),\n",
       "  f2: (-b1*b2*b3*p2 + b1*b2*p2 - b1*b3*p1 - b1*b3*p3 + b1*b3 + b2*b3*p2)/(-b1*b2*b3 + b1*b2 + b1*b3 + b2*b3),\n",
       "  f3: (-b1*b2*b3*p3 - b1*b2*p1 - b1*b2*p2 + b1*b2 + b1*b3*p3 + b2*b3*p3)/(-b1*b2*b3 + b1*b2 + b1*b3 + b2*b3)}]"
      ]
     },
     "execution_count": 42,
     "metadata": {},
     "output_type": "execute_result"
    }
   ],
   "source": [
    "sol = sp.solve([eq1,eq2,partials[2]], (f1, f2, f3), dict=True)\n",
    "sol"
   ]
  },
  {
   "cell_type": "markdown",
   "id": "58fa9fab",
   "metadata": {},
   "source": [
    "Verifying the obtained solution is indeed extremum"
   ]
  },
  {
   "cell_type": "code",
   "execution_count": 43,
   "id": "3a3a9a88",
   "metadata": {},
   "outputs": [
    {
     "name": "stdout",
     "output_type": "stream",
     "text": [
      "grad  0 : 0\n",
      "grad  1 : 0\n",
      "grad  2 : 0\n"
     ]
    }
   ],
   "source": [
    "for i in range(3):\n",
    "    print('grad ',i,':',partials[i].subs(sol[0]).simplify())"
   ]
  },
  {
   "cell_type": "markdown",
   "id": "a8df7cc2",
   "metadata": {},
   "source": [
    "Calculation of Hessian to make sure the extremum is maxima. The function is a concave function - so the extremum point is maxima. If the problem is formulated as a optimization problem, the problem is **convex** in nature"
   ]
  },
  {
   "cell_type": "code",
   "execution_count": 44,
   "id": "d2008cf9",
   "metadata": {},
   "outputs": [
    {
     "data": {
      "text/latex": [
       "$\\displaystyle \\left[\\begin{matrix}\\frac{p_{1} \\left(1 - b_{1}\\right) \\left(b_{1} - 1\\right)}{\\left(f_{1} \\left(b_{1} - 1\\right) - f_{2} - f_{3} + 1\\right)^{2}} - \\frac{p_{2}}{\\left(- f_{1} + f_{2} \\left(b_{2} - 1\\right) - f_{3} + 1\\right)^{2}} - \\frac{p_{3}}{\\left(- f_{1} - f_{2} + f_{3} \\left(b_{3} - 1\\right) + 1\\right)^{2}} - \\frac{- p_{1} - p_{2} - p_{3} + 1}{\\left(- f_{1} - f_{2} - f_{3} + 1\\right)^{2}} & \\frac{p_{1} \\left(b_{1} - 1\\right)}{\\left(f_{1} \\left(b_{1} - 1\\right) - f_{2} - f_{3} + 1\\right)^{2}} - \\frac{p_{2} \\left(1 - b_{2}\\right)}{\\left(- f_{1} + f_{2} \\left(b_{2} - 1\\right) - f_{3} + 1\\right)^{2}} - \\frac{p_{3}}{\\left(- f_{1} - f_{2} + f_{3} \\left(b_{3} - 1\\right) + 1\\right)^{2}} - \\frac{- p_{1} - p_{2} - p_{3} + 1}{\\left(- f_{1} - f_{2} - f_{3} + 1\\right)^{2}} & \\frac{p_{1} \\left(b_{1} - 1\\right)}{\\left(f_{1} \\left(b_{1} - 1\\right) - f_{2} - f_{3} + 1\\right)^{2}} - \\frac{p_{2}}{\\left(- f_{1} + f_{2} \\left(b_{2} - 1\\right) - f_{3} + 1\\right)^{2}} - \\frac{p_{3} \\left(1 - b_{3}\\right)}{\\left(- f_{1} - f_{2} + f_{3} \\left(b_{3} - 1\\right) + 1\\right)^{2}} - \\frac{- p_{1} - p_{2} - p_{3} + 1}{\\left(- f_{1} - f_{2} - f_{3} + 1\\right)^{2}}\\\\\\frac{p_{1} \\left(b_{1} - 1\\right)}{\\left(f_{1} \\left(b_{1} - 1\\right) - f_{2} - f_{3} + 1\\right)^{2}} - \\frac{p_{2} \\left(1 - b_{2}\\right)}{\\left(- f_{1} + f_{2} \\left(b_{2} - 1\\right) - f_{3} + 1\\right)^{2}} - \\frac{p_{3}}{\\left(- f_{1} - f_{2} + f_{3} \\left(b_{3} - 1\\right) + 1\\right)^{2}} - \\frac{- p_{1} - p_{2} - p_{3} + 1}{\\left(- f_{1} - f_{2} - f_{3} + 1\\right)^{2}} & - \\frac{p_{1}}{\\left(f_{1} \\left(b_{1} - 1\\right) - f_{2} - f_{3} + 1\\right)^{2}} + \\frac{p_{2} \\left(1 - b_{2}\\right) \\left(b_{2} - 1\\right)}{\\left(- f_{1} + f_{2} \\left(b_{2} - 1\\right) - f_{3} + 1\\right)^{2}} - \\frac{p_{3}}{\\left(- f_{1} - f_{2} + f_{3} \\left(b_{3} - 1\\right) + 1\\right)^{2}} - \\frac{- p_{1} - p_{2} - p_{3} + 1}{\\left(- f_{1} - f_{2} - f_{3} + 1\\right)^{2}} & - \\frac{p_{1}}{\\left(f_{1} \\left(b_{1} - 1\\right) - f_{2} - f_{3} + 1\\right)^{2}} + \\frac{p_{2} \\left(b_{2} - 1\\right)}{\\left(- f_{1} + f_{2} \\left(b_{2} - 1\\right) - f_{3} + 1\\right)^{2}} - \\frac{p_{3} \\left(1 - b_{3}\\right)}{\\left(- f_{1} - f_{2} + f_{3} \\left(b_{3} - 1\\right) + 1\\right)^{2}} - \\frac{- p_{1} - p_{2} - p_{3} + 1}{\\left(- f_{1} - f_{2} - f_{3} + 1\\right)^{2}}\\\\\\frac{p_{1} \\left(b_{1} - 1\\right)}{\\left(f_{1} \\left(b_{1} - 1\\right) - f_{2} - f_{3} + 1\\right)^{2}} - \\frac{p_{2}}{\\left(- f_{1} + f_{2} \\left(b_{2} - 1\\right) - f_{3} + 1\\right)^{2}} - \\frac{p_{3} \\left(1 - b_{3}\\right)}{\\left(- f_{1} - f_{2} + f_{3} \\left(b_{3} - 1\\right) + 1\\right)^{2}} - \\frac{- p_{1} - p_{2} - p_{3} + 1}{\\left(- f_{1} - f_{2} - f_{3} + 1\\right)^{2}} & - \\frac{p_{1}}{\\left(f_{1} \\left(b_{1} - 1\\right) - f_{2} - f_{3} + 1\\right)^{2}} + \\frac{p_{2} \\left(b_{2} - 1\\right)}{\\left(- f_{1} + f_{2} \\left(b_{2} - 1\\right) - f_{3} + 1\\right)^{2}} - \\frac{p_{3} \\left(1 - b_{3}\\right)}{\\left(- f_{1} - f_{2} + f_{3} \\left(b_{3} - 1\\right) + 1\\right)^{2}} - \\frac{- p_{1} - p_{2} - p_{3} + 1}{\\left(- f_{1} - f_{2} - f_{3} + 1\\right)^{2}} & - \\frac{p_{1}}{\\left(f_{1} \\left(b_{1} - 1\\right) - f_{2} - f_{3} + 1\\right)^{2}} - \\frac{p_{2}}{\\left(- f_{1} + f_{2} \\left(b_{2} - 1\\right) - f_{3} + 1\\right)^{2}} + \\frac{p_{3} \\left(1 - b_{3}\\right) \\left(b_{3} - 1\\right)}{\\left(- f_{1} - f_{2} + f_{3} \\left(b_{3} - 1\\right) + 1\\right)^{2}} - \\frac{- p_{1} - p_{2} - p_{3} + 1}{\\left(- f_{1} - f_{2} - f_{3} + 1\\right)^{2}}\\end{matrix}\\right]$"
      ],
      "text/plain": [
       "Matrix([\n",
       "[p1*(1 - b1)*(b1 - 1)/(f1*(b1 - 1) - f2 - f3 + 1)**2 - p2/(-f1 + f2*(b2 - 1) - f3 + 1)**2 - p3/(-f1 - f2 + f3*(b3 - 1) + 1)**2 - (-p1 - p2 - p3 + 1)/(-f1 - f2 - f3 + 1)**2,  p1*(b1 - 1)/(f1*(b1 - 1) - f2 - f3 + 1)**2 - p2*(1 - b2)/(-f1 + f2*(b2 - 1) - f3 + 1)**2 - p3/(-f1 - f2 + f3*(b3 - 1) + 1)**2 - (-p1 - p2 - p3 + 1)/(-f1 - f2 - f3 + 1)**2,  p1*(b1 - 1)/(f1*(b1 - 1) - f2 - f3 + 1)**2 - p2/(-f1 + f2*(b2 - 1) - f3 + 1)**2 - p3*(1 - b3)/(-f1 - f2 + f3*(b3 - 1) + 1)**2 - (-p1 - p2 - p3 + 1)/(-f1 - f2 - f3 + 1)**2],\n",
       "[p1*(b1 - 1)/(f1*(b1 - 1) - f2 - f3 + 1)**2 - p2*(1 - b2)/(-f1 + f2*(b2 - 1) - f3 + 1)**2 - p3/(-f1 - f2 + f3*(b3 - 1) + 1)**2 - (-p1 - p2 - p3 + 1)/(-f1 - f2 - f3 + 1)**2, -p1/(f1*(b1 - 1) - f2 - f3 + 1)**2 + p2*(1 - b2)*(b2 - 1)/(-f1 + f2*(b2 - 1) - f3 + 1)**2 - p3/(-f1 - f2 + f3*(b3 - 1) + 1)**2 - (-p1 - p2 - p3 + 1)/(-f1 - f2 - f3 + 1)**2, -p1/(f1*(b1 - 1) - f2 - f3 + 1)**2 + p2*(b2 - 1)/(-f1 + f2*(b2 - 1) - f3 + 1)**2 - p3*(1 - b3)/(-f1 - f2 + f3*(b3 - 1) + 1)**2 - (-p1 - p2 - p3 + 1)/(-f1 - f2 - f3 + 1)**2],\n",
       "[p1*(b1 - 1)/(f1*(b1 - 1) - f2 - f3 + 1)**2 - p2/(-f1 + f2*(b2 - 1) - f3 + 1)**2 - p3*(1 - b3)/(-f1 - f2 + f3*(b3 - 1) + 1)**2 - (-p1 - p2 - p3 + 1)/(-f1 - f2 - f3 + 1)**2, -p1/(f1*(b1 - 1) - f2 - f3 + 1)**2 + p2*(b2 - 1)/(-f1 + f2*(b2 - 1) - f3 + 1)**2 - p3*(1 - b3)/(-f1 - f2 + f3*(b3 - 1) + 1)**2 - (-p1 - p2 - p3 + 1)/(-f1 - f2 - f3 + 1)**2, -p1/(f1*(b1 - 1) - f2 - f3 + 1)**2 - p2/(-f1 + f2*(b2 - 1) - f3 + 1)**2 + p3*(1 - b3)*(b3 - 1)/(-f1 - f2 + f3*(b3 - 1) + 1)**2 - (-p1 - p2 - p3 + 1)/(-f1 - f2 - f3 + 1)**2]])"
      ]
     },
     "execution_count": 44,
     "metadata": {},
     "output_type": "execute_result"
    }
   ],
   "source": [
    "variables = [f1, f2, f3]\n",
    "\n",
    "H = sp.hessian(g, variables)\n",
    "\n",
    "H"
   ]
  },
  {
   "cell_type": "code",
   "execution_count": 48,
   "id": "a951e48f",
   "metadata": {},
   "outputs": [
    {
     "data": {
      "text/plain": [
       "{f1: (-b1*b2*b3*p1 + b1*b2*p1 + b1*b3*p1 - b2*b3*p2 - b2*b3*p3 + b2*b3)/(-b1*b2*b3 + b1*b2 + b1*b3 + b2*b3),\n",
       " f2: (-b1*b2*b3*p2 + b1*b2*p2 - b1*b3*p1 - b1*b3*p3 + b1*b3 + b2*b3*p2)/(-b1*b2*b3 + b1*b2 + b1*b3 + b2*b3),\n",
       " f3: (-b1*b2*b3*p3 - b1*b2*p1 - b1*b2*p2 + b1*b2 + b1*b3*p3 + b2*b3*p3)/(-b1*b2*b3 + b1*b2 + b1*b3 + b2*b3)}"
      ]
     },
     "execution_count": 48,
     "metadata": {},
     "output_type": "execute_result"
    }
   ],
   "source": [
    "sol[0]"
   ]
  },
  {
   "cell_type": "markdown",
   "id": "358e1035",
   "metadata": {},
   "source": [
    "Substituting parameters in the kelly betting fraction"
   ]
  },
  {
   "cell_type": "code",
   "execution_count": null,
   "id": "6aa85609",
   "metadata": {},
   "outputs": [
    {
     "name": "stdout",
     "output_type": "stream",
     "text": [
      "f1 = -0.00900900900900897\n",
      "f2 = -0.00900900900900897\n",
      "f3 = -0.00900900900900897\n",
      "f1 + f2 + f3 = -0.0270270270270269\n"
     ]
    }
   ],
   "source": [
    "# Denominator used in all three expressions\n",
    "den = (-b1*b2*b3 + b1*b2 + b1*b3 + b2*b3)\n",
    "\n",
    "# Expressions for f1, f2, f3\n",
    "f1_expr = (-b1*b2*b3*p1 + b1*b2*p1 + b1*b3*p1 - b2*b3*p2 - b2*b3*p3 + b2*b3) / den\n",
    "f2_expr = (-b1*b2*b3*p2 + b1*b2*p2 - b1*b3*p1 - b1*b3*p3 + b1*b3 + b2*b3*p2) / den\n",
    "f3_expr = (-b1*b2*b3*p3 - b1*b2*p1 - b1*b2*p2 + b1*b2 + b1*b3*p3 + b2*b3*p3) / den\n",
    "\n",
    "# Parameter values\n",
    "param_values = {\n",
    "    p1: 6/37,\n",
    "    p2: 6/37,\n",
    "    p3: 6/37,\n",
    "    b1: 6,\n",
    "    b2: 6,\n",
    "    b3: 6\n",
    "}\n",
    "\n",
    "# Substitute into expressions and evaluate\n",
    "f1_val = f1_expr.subs(param_values).evalf()\n",
    "f2_val = f2_expr.subs(param_values).evalf()\n",
    "f3_val = f3_expr.subs(param_values).evalf()\n",
    "\n",
    "# Compute total\n",
    "total = f1_val + f2_val + f3_val\n",
    "\n",
    "print(\"f1 =\", f1_val)\n",
    "print(\"f2 =\", f2_val)\n",
    "print(\"f3 =\", f3_val)\n",
    "print(\"f1 + f2 + f3 =\", total)"
   ]
  }
 ],
 "metadata": {
  "kernelspec": {
   "display_name": "install_module_venv",
   "language": "python",
   "name": "python3"
  },
  "language_info": {
   "codemirror_mode": {
    "name": "ipython",
    "version": 3
   },
   "file_extension": ".py",
   "mimetype": "text/x-python",
   "name": "python",
   "nbconvert_exporter": "python",
   "pygments_lexer": "ipython3",
   "version": "3.12.3"
  }
 },
 "nbformat": 4,
 "nbformat_minor": 5
}
